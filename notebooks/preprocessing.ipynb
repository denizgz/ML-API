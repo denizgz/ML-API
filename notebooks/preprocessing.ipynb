{
 "cells": [
  {
   "cell_type": "code",
   "execution_count": 2,
   "metadata": {},
   "outputs": [],
   "source": [
    "import pickle\n",
    "import numpy as np\n",
    "import pandas as pd\n",
    "from sklearn.ensemble import RandomForestClassifier\n",
    "from sklearn.preprocessing import OneHotEncoder\n",
    "\n",
    "# Load data and save indices of columns\n",
    "df = pd.read_csv(\"data.csv\")\n",
    "features = df.drop('left', 1).columns\n",
    "pickle.dump(features, open('features.pickle', 'wb'))\n",
    "\n",
    "# Fit and save an OneHotEncoder\n",
    "columns_to_fit = ['sales', 'salary']\n",
    "enc = OneHotEncoder(sparse=False).fit(df.loc[:, columns_to_fit])\n",
    "pickle.dump(enc, open('encoder.pickle', 'wb'))\n",
    "\n",
    "# Transform variables, merge with existing df and keep column names\n",
    "column_names = enc.get_feature_names(columns_to_fit)\n",
    "encoded_variables = pd.DataFrame(enc.transform(df.loc[:, columns_to_fit]), columns=column_names)\n",
    "df = df.drop(columns_to_fit, 1)\n",
    "df = pd.concat([df, encoded_variables], axis=1)\n",
    "    \n",
    "# Fit and save model\n",
    "X, y = df.drop('left', 1), df.loc[:, 'left']\n",
    "clf = RandomForestClassifier().fit(X, y)\n",
    "pickle.dump(clf, open('model.pickle', 'wb'))"
   ]
  },
  {
   "cell_type": "code",
   "execution_count": null,
   "metadata": {},
   "outputs": [],
   "source": []
  }
 ],
 "metadata": {
  "kernelspec": {
   "name": "python395jvsc74a57bd008bcf114b6799a788c3e4c5366ee28d230c9527aecb5fe8828812464fcb419b7",
   "display_name": "Python 3.9.5 64-bit (windows store)"
  },
  "language_info": {
   "codemirror_mode": {
    "name": "ipython",
    "version": 3
   },
   "file_extension": ".py",
   "mimetype": "text/x-python",
   "name": "python",
   "nbconvert_exporter": "python",
   "pygments_lexer": "ipython3",
   "version": "3.9.5"
  },
  "metadata": {
   "interpreter": {
    "hash": "08bcf114b6799a788c3e4c5366ee28d230c9527aecb5fe8828812464fcb419b7"
   }
  }
 },
 "nbformat": 4,
 "nbformat_minor": 2
}